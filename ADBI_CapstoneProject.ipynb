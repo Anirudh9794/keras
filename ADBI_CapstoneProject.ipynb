{
  "nbformat": 4,
  "nbformat_minor": 0,
  "metadata": {
    "colab": {
      "name": "ADBI_CapstoneProject.ipynb",
      "version": "0.3.2",
      "provenance": [],
      "collapsed_sections": [],
      "include_colab_link": true
    },
    "kernelspec": {
      "name": "python3",
      "display_name": "Python 3"
    }
  },
  "cells": [
    {
      "cell_type": "markdown",
      "metadata": {
        "id": "view-in-github",
        "colab_type": "text"
      },
      "source": [
        "<a href=\"https://colab.research.google.com/github/Anirudh9794/keras/blob/master/ADBI_CapstoneProject.ipynb\" target=\"_parent\"><img src=\"https://colab.research.google.com/assets/colab-badge.svg\" alt=\"Open In Colab\"/></a>"
      ]
    },
    {
      "metadata": {
        "id": "tz64T4UImpSE",
        "colab_type": "code",
        "colab": {}
      },
      "cell_type": "code",
      "source": [
        "import json\n",
        "import os\n",
        "from google.colab import files\n",
        "import glob\n",
        "import random"
      ],
      "execution_count": 0,
      "outputs": []
    },
    {
      "metadata": {
        "id": "qA_chah1UYHP",
        "colab_type": "code",
        "outputId": "b8236e17-54d9-4c92-f8d0-63dcc13ab41d",
        "colab": {
          "base_uri": "https://localhost:8080/",
          "height": 122
        }
      },
      "cell_type": "code",
      "source": [
        "from google.colab import drive\n",
        "drive.mount('/content/gdrive')"
      ],
      "execution_count": 0,
      "outputs": [
        {
          "output_type": "stream",
          "text": [
            "Go to this URL in a browser: https://accounts.google.com/o/oauth2/auth?client_id=947318989803-6bn6qk8qdgf4n4g3pfee6491hc0brc4i.apps.googleusercontent.com&redirect_uri=urn%3Aietf%3Awg%3Aoauth%3A2.0%3Aoob&scope=email%20https%3A%2F%2Fwww.googleapis.com%2Fauth%2Fdocs.test%20https%3A%2F%2Fwww.googleapis.com%2Fauth%2Fdrive%20https%3A%2F%2Fwww.googleapis.com%2Fauth%2Fdrive.photos.readonly%20https%3A%2F%2Fwww.googleapis.com%2Fauth%2Fpeopleapi.readonly&response_type=code\n",
            "\n",
            "Enter your authorization code:\n",
            "··········\n",
            "Mounted at /content/gdrive\n"
          ],
          "name": "stdout"
        }
      ]
    },
    {
      "metadata": {
        "id": "l9I0pkFfUqx4",
        "colab_type": "code",
        "outputId": "090d8485-c115-4e2a-9d94-3a6f45bc48f1",
        "colab": {
          "base_uri": "https://localhost:8080/",
          "height": 68
        }
      },
      "cell_type": "code",
      "source": [
        "!cp gdrive/My\\ Drive/news-category-dataset.zip .\n",
        "!unzip news-category-dataset.zip -d CapstoneDataset\n",
        "!ls CapstoneDataset"
      ],
      "execution_count": 0,
      "outputs": [
        {
          "output_type": "stream",
          "text": [
            "Archive:  news-category-dataset.zip\n",
            "  inflating: CapstoneDataset/News_Category_Dataset_v2.json  \n",
            "News_Category_Dataset_v2.json\n"
          ],
          "name": "stdout"
        }
      ]
    },
    {
      "metadata": {
        "id": "gtXcgrXcPIXz",
        "colab_type": "code",
        "colab": {}
      },
      "cell_type": "code",
      "source": [
        "categories = {\n",
        "    'STYLE.txt', 'RELIGION.txt', 'FOOD_&_DRINK.txt', 'TECH.txt', 'WORLDPOST.txt', 'HEALTHY_LIVING.txt', 'COMEDY.txt', 'WEIRD_NEWS.txt', \n",
        "    'MEDIA.txt', 'DIVORCE.txt', 'ARTS.txt', 'CULTURE_&_ARTS.txt', 'EDUCATION.txt', 'LATINO_VOICES.txt', 'HOME_&_LIVING.txt', 'SPORTS.txt', \n",
        "    'CRIME.txt', 'WELLNESS.txt', 'ARTS_&_CULTURE.txt', 'THE_WORLDPOST.txt', 'FIFTY.txt', 'SCIENCE.txt', 'GOOD_NEWS.txt', 'ENVIRONMENT.txt', \n",
        "    'BUSINESS.txt', 'TASTE.txt', 'QUEER_VOICES.txt', 'STYLE_&_BEAUTY.txt', 'BLACK_VOICES.txt', 'PARENTING.txt', 'IMPACT.txt', 'COLLEGE.txt', \n",
        "    'WORLD_NEWS.txt', 'POLITICS.txt', 'WOMEN.txt', 'WEDDINGS.txt', 'TRAVEL.txt', 'MONEY.txt', 'ENTERTAINMENT.txt', 'PARENTS.txt', 'GREEN.txt'\n",
        "    }\n",
        "\n",
        "\n",
        "# filpath = 'CapstoneDataset/train/'\n",
        "filepath = ''\n",
        "for category in categories:\n",
        "  if os.path.isfile( filpath + category):\n",
        "    os.remove(filpath+category)"
      ],
      "execution_count": 0,
      "outputs": []
    },
    {
      "metadata": {
        "id": "RtI0jE0-PYGa",
        "colab_type": "code",
        "colab": {}
      },
      "cell_type": "code",
      "source": [
        "def convertJsonToTxt():\n",
        "  \"\"\"\n",
        "  Converts dataset which is in JSON format to the respective category text files and return created category files.\n",
        "  \"\"\"\n",
        "  rootdir = 'CapstoneDataset/'\n",
        "  fileName = rootdir+\"News_Category_Dataset_v2.json\"\n",
        "  categories = set()\n",
        "  print(\"Reading JSON data from {}\".format(fileName))\n",
        "  lineSeparator = \" \\n\"\n",
        "  with open(fileName) as fileObj:\n",
        "      for line in fileObj:\n",
        "          lineData = json.loads(line)\n",
        "          category = lineData['category']\n",
        "          headline = lineData['headline']\n",
        "          categoryFileName = \".\".join((category.replace(' ', '_'), \"txt\"))\n",
        "          categoryFileObj = open(rootdir+categoryFileName, 'a') if os.path.isfile(rootdir+categoryFileName) else open(rootdir+categoryFileName, 'w')\n",
        "          categoryFileObj.write(headline + lineSeparator)\n",
        "          categories.add(category)\n",
        "          \n",
        "  print(\"Completed conversion of JSON dataset to respective category files...\")\n",
        "  print(\"Below are the set of the category files created\")\n",
        "  print(categoryFileNames)\n",
        "  return categories\n"
      ],
      "execution_count": 0,
      "outputs": []
    },
    {
      "metadata": {
        "id": "WrQgtDesPcBV",
        "colab_type": "code",
        "outputId": "b8760a12-6f11-4bbe-8024-a247434f7dae",
        "colab": {
          "base_uri": "https://localhost:8080/",
          "height": 156
        }
      },
      "cell_type": "code",
      "source": [
        "categories = convertJsonToTxt()\n",
        "print(\"Different set of categories available for given dataset are: \\n{}\".format(categories))\n",
        "print(len(categories))"
      ],
      "execution_count": 0,
      "outputs": [
        {
          "output_type": "stream",
          "text": [
            "Reading JSON data from CapstoneDataset/News_Category_Dataset_v2.json\n",
            "Completed conversion of JSON dataset to respective category files...\n",
            "Below are the set of the categories files created\n",
            "{'GREEN.txt', 'HEALTHY_LIVING.txt', 'MEDIA.txt', 'QUEER_VOICES.txt', 'EDUCATION.txt', 'TECH.txt', 'ENTERTAINMENT.txt', 'WEIRD_NEWS.txt', 'GOOD_NEWS.txt', 'WORLDPOST.txt', 'PARENTING.txt', 'ENVIRONMENT.txt', 'POLITICS.txt', 'WORLD_NEWS.txt', 'TASTE.txt', 'COMEDY.txt', 'LATINO_VOICES.txt', 'BLACK_VOICES.txt', 'MONEY.txt', 'STYLE_&_BEAUTY.txt', 'WEDDINGS.txt', 'ARTS_&_CULTURE.txt', 'ARTS.txt', 'IMPACT.txt', 'TRAVEL.txt', 'PARENTS.txt', 'HOME_&_LIVING.txt', 'DIVORCE.txt', 'THE_WORLDPOST.txt', 'FIFTY.txt', 'STYLE.txt', 'RELIGION.txt', 'BUSINESS.txt', 'CULTURE_&_ARTS.txt', 'SCIENCE.txt', 'FOOD_&_DRINK.txt', 'WELLNESS.txt', 'COLLEGE.txt', 'CRIME.txt', 'WOMEN.txt', 'SPORTS.txt'}\n",
            "Different set of categories available for given dataset are: \n",
            "{'MONEY', 'ENTERTAINMENT', 'GOOD NEWS', 'IMPACT', 'CULTURE & ARTS', 'HOME & LIVING', 'TECH', 'SCIENCE', 'BLACK VOICES', 'SPORTS', 'POLITICS', 'WEDDINGS', 'BUSINESS', 'WEIRD NEWS', 'TASTE', 'WORLD NEWS', 'WELLNESS', 'THE WORLDPOST', 'FIFTY', 'STYLE & BEAUTY', 'PARENTS', 'QUEER VOICES', 'STYLE', 'GREEN', 'COMEDY', 'CRIME', 'COLLEGE', 'MEDIA', 'HEALTHY LIVING', 'DIVORCE', 'FOOD & DRINK', 'WOMEN', 'ARTS & CULTURE', 'WORLDPOST', 'RELIGION', 'EDUCATION', 'LATINO VOICES', 'TRAVEL', 'ARTS', 'ENVIRONMENT', 'PARENTING'}\n",
            "41\n"
          ],
          "name": "stdout"
        }
      ]
    },
    {
      "metadata": {
        "id": "ZoEoXC0qPeMD",
        "colab_type": "code",
        "colab": {}
      },
      "cell_type": "code",
      "source": [
        "# for category in sorted(categoryFileNames):\n",
        "#   files.download(category)  "
      ],
      "execution_count": 0,
      "outputs": []
    },
    {
      "metadata": {
        "id": "RHHjuE7GPjqL",
        "colab_type": "code",
        "outputId": "c5638570-4ab8-4c30-c9a3-6a1617ae7e5c",
        "colab": {
          "base_uri": "https://localhost:8080/",
          "height": 255
        }
      },
      "cell_type": "code",
      "source": [
        "!ls CapstoneDataset"
      ],
      "execution_count": 0,
      "outputs": [
        {
          "output_type": "stream",
          "text": [
            "'ARTS_&_CULTURE.txt'   GOOD_NEWS.txt\t\t       SCIENCE.txt\n",
            " ARTS.txt\t       GREEN.txt\t\t       SPORTS.txt\n",
            " BLACK_VOICES.txt      HEALTHY_LIVING.txt\t      'STYLE_&_BEAUTY.txt'\n",
            " BUSINESS.txt\t      'HOME_&_LIVING.txt'\t       STYLE.txt\n",
            " COLLEGE.txt\t       IMPACT.txt\t\t       TASTE.txt\n",
            " COMEDY.txt\t       LATINO_VOICES.txt\t       TECH.txt\n",
            " CRIME.txt\t       MEDIA.txt\t\t       THE_WORLDPOST.txt\n",
            "'CULTURE_&_ARTS.txt'   MONEY.txt\t\t       TRAVEL.txt\n",
            " DIVORCE.txt\t       News_Category_Dataset_v2.json   WEDDINGS.txt\n",
            " EDUCATION.txt\t       PARENTING.txt\t\t       WEIRD_NEWS.txt\n",
            " ENTERTAINMENT.txt     PARENTS.txt\t\t       WELLNESS.txt\n",
            " ENVIRONMENT.txt       POLITICS.txt\t\t       WOMEN.txt\n",
            " FIFTY.txt\t       QUEER_VOICES.txt\t\t       WORLD_NEWS.txt\n",
            "'FOOD_&_DRINK.txt'     RELIGION.txt\t\t       WORLDPOST.txt\n"
          ],
          "name": "stdout"
        }
      ]
    },
    {
      "metadata": {
        "id": "4TnMOBspbm4I",
        "colab_type": "code",
        "colab": {}
      },
      "cell_type": "code",
      "source": [
        "rootdir = 'CapstoneDataset/'\n"
      ],
      "execution_count": 0,
      "outputs": []
    },
    {
      "metadata": {
        "id": "v3lwupZUdU4p",
        "colab_type": "code",
        "outputId": "61e3bb5f-a676-4409-e7e0-d191293b688d",
        "colab": {
          "base_uri": "https://localhost:8080/",
          "height": 68
        }
      },
      "cell_type": "code",
      "source": [
        "!mkdir CapstoneDataset/train\n",
        "!mkdir CapstoneDataset/test\n",
        "!mkdir CapstoneDataset/validation\n",
        "\n",
        "trainfilepath = rootdir+\"train/\"\n",
        "testfilepath = rootdir+ \"test/\"\n",
        "valfilepath = rootdir+\"validation/\"\n",
        "\n",
        "for file in glob.glob(rootdir+\"*.txt\"):\n",
        "  data=[]\n",
        "  filename = file.rsplit('/')[-1]\n",
        "  lenFile = len(open(rootdir+filename).readlines())\n",
        "  count = 0\n",
        "  trainFile = open(trainfilepath+filename, 'w')\n",
        "  testFile = open(testfilepath+filename, 'w')\n",
        "  valFile = open(valfilepath+filename, 'w')\n",
        "  \n",
        "  for line in open(file, 'r'):\n",
        "    if count < 0.6*lenFile:\n",
        "      trainFile.write(line)\n",
        "    elif count < 0.8*lenFile:\n",
        "      valFile.write(line)\n",
        "    else:\n",
        "      testFile.write(line)\n",
        "    count += 1"
      ],
      "execution_count": 0,
      "outputs": [
        {
          "output_type": "stream",
          "text": [
            "mkdir: cannot create directory ‘CapstoneDataset/train’: File exists\n",
            "mkdir: cannot create directory ‘CapstoneDataset/test’: File exists\n",
            "mkdir: cannot create directory ‘CapstoneDataset/validation’: File exists\n"
          ],
          "name": "stdout"
        }
      ]
    },
    {
      "metadata": {
        "id": "0ygrDqnLdK94",
        "colab_type": "code",
        "outputId": "59742e9d-f773-41ca-f030-69fa33a26b78",
        "colab": {
          "base_uri": "https://localhost:8080/",
          "height": 34
        }
      },
      "cell_type": "code",
      "source": [
        "!wc --lines CapstoneDataset/GOOD_NEWS.txt"
      ],
      "execution_count": 0,
      "outputs": [
        {
          "output_type": "stream",
          "text": [
            "6990 CapstoneDataset/GOOD_NEWS.txt\n"
          ],
          "name": "stdout"
        }
      ]
    },
    {
      "metadata": {
        "id": "j6B1Oixsk2qD",
        "colab_type": "code",
        "colab": {}
      },
      "cell_type": "code",
      "source": [
        ""
      ],
      "execution_count": 0,
      "outputs": []
    }
  ]
}